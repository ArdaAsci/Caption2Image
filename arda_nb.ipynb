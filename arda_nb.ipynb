{
 "cells": [
  {
   "cell_type": "markdown",
   "metadata": {},
   "source": [
    "# Neural Proje"
   ]
  },
  {
   "cell_type": "markdown",
   "metadata": {},
   "source": [
    "### Imports"
   ]
  },
  {
   "cell_type": "code",
   "execution_count": 2,
   "metadata": {},
   "outputs": [
    {
     "data": {
      "text/plain": [
       "<module 'image_loader' from '/scratch/arda/proj/image_loader.py'>"
      ]
     },
     "execution_count": 2,
     "metadata": {},
     "output_type": "execute_result"
    }
   ],
   "source": [
    "import h5py\n",
    "import torch\n",
    "import numpy as np\n",
    "import matplotlib.pyplot as plt\n",
    "import random\n",
    "import clip\n",
    "from PIL import Image\n",
    "import requests\n",
    "from importlib import reload\n",
    "import io\n",
    "# Import our custom modules\n",
    "import image_loader\n",
    "reload(image_loader)"
   ]
  },
  {
   "cell_type": "markdown",
   "metadata": {},
   "source": [
    "### Read Data From H5 Files"
   ]
  },
  {
   "cell_type": "code",
   "execution_count": 3,
   "metadata": {},
   "outputs": [
    {
     "name": "stdout",
     "output_type": "stream",
     "text": [
      "Keys: <KeysViewHDF5 ['train_cap', 'train_imid', 'train_ims', 'train_url', 'word_code']>\n",
      "Keys: <KeysViewHDF5 ['test_caps', 'test_imid', 'test_ims', 'test_url']>\n"
     ]
    },
    {
     "data": {
      "text/plain": [
       "((400135, 17), (400135,), (82783,), (195954, 17), (195954,), (40504,))"
      ]
     },
     "execution_count": 3,
     "metadata": {},
     "output_type": "execute_result"
    }
   ],
   "source": [
    "with h5py.File(\"eee443_project_dataset_train.h5\", \"r\") as f:\n",
    "    print(\"Keys: %s\" % f.keys())\n",
    "    train_cap = np.array(f[\"train_cap\"])\n",
    "    train_imid = np.array(f[\"train_imid\"])\n",
    "    #train_ims = np.array(f[\"train_ims\"])\n",
    "    train_url = np.array(f[\"train_url\"])\n",
    "    word_code = np.array(f[\"word_code\"])\n",
    "words = np.array(word_code.dtype.names)\n",
    "word_indices = np.array(list(word_code[0]), dtype=np.int32)\n",
    "with h5py.File(\"eee443_project_dataset_test.h5\", \"r\") as f:\n",
    "    print(\"Keys: %s\" % f.keys())\n",
    "    test_cap = np.array(f[\"test_caps\"])\n",
    "    test_imid = np.array(f[\"test_imid\"])\n",
    "    test_ims = np.array(f[\"test_ims\"])\n",
    "    test_url = np.array(f[\"test_url\"])\n",
    "train_cap.shape, train_imid.shape, train_url.shape, test_cap.shape, test_imid.shape, test_url.shape"
   ]
  },
  {
   "cell_type": "markdown",
   "metadata": {},
   "source": [
    "### Train/Validation Split"
   ]
  },
  {
   "cell_type": "code",
   "execution_count": 3,
   "metadata": {},
   "outputs": [],
   "source": [
    "N = train_cap.shape[0]\n",
    "validation_amount = int(N * 0.15)\n",
    "validation_indices = random.sample(range(N), validation_amount)\n",
    "validation_mask = np.zeros(N)\n",
    "validation_mask[validation_indices] = 1\n",
    "train_X = train_cap[validation_mask == 0]\n",
    "train_Y = train_imid[validation_mask == 0]\n",
    "valid_X = train_cap[validation_mask == 1]\n",
    "valid_Y = train_imid[validation_mask == 1]\n",
    "del validation_mask, validation_indices, validation_amount"
   ]
  },
  {
   "cell_type": "code",
   "execution_count": 4,
   "metadata": {},
   "outputs": [],
   "source": [
    "word_indices_sorter = np.argsort(word_indices)\n",
    "words = words[word_indices_sorter]\n",
    "words\n",
    "del word_indices_sorter, word_code"
   ]
  },
  {
   "cell_type": "markdown",
   "metadata": {},
   "source": [
    "### Testing CLIP"
   ]
  },
  {
   "cell_type": "code",
   "execution_count": 5,
   "metadata": {},
   "outputs": [],
   "source": [
    "device = \"cuda\" if torch.cuda.is_available() else \"cpu\"\n",
    "model, preprocessor = clip.load(\"ViT-B/32\", device=device)"
   ]
  },
  {
   "cell_type": "markdown",
   "metadata": {},
   "source": [
    "### Load or Calculate Tokenizeded Captions"
   ]
  },
  {
   "cell_type": "code",
   "execution_count": 1,
   "metadata": {},
   "outputs": [
    {
     "ename": "NameError",
     "evalue": "name 'torch' is not defined",
     "output_type": "error",
     "traceback": [
      "\u001b[0;31m---------------------------------------------------------------------------\u001b[0m",
      "\u001b[0;31mNameError\u001b[0m                                 Traceback (most recent call last)",
      "\u001b[1;32m/scratch/arda/proj/proj.ipynb Cell 12'\u001b[0m in \u001b[0;36m<cell line: 1>\u001b[0;34m()\u001b[0m\n\u001b[1;32m      <a href='vscode-notebook-cell://ssh-remote%2B139.179.99.12/scratch/arda/proj/proj.ipynb#ch0000011vscode-remote?line=0'>1</a>\u001b[0m \u001b[39mtry\u001b[39;00m:\n\u001b[0;32m----> <a href='vscode-notebook-cell://ssh-remote%2B139.179.99.12/scratch/arda/proj/proj.ipynb#ch0000011vscode-remote?line=1'>2</a>\u001b[0m     all_tokenized_captions \u001b[39m=\u001b[39m torch\u001b[39m.\u001b[39mload(\u001b[39m\"\u001b[39m\u001b[39mtensors/all_tokenized_captions.pt\u001b[39m\u001b[39m\"\u001b[39m, map_location\u001b[39m=\u001b[39m\u001b[39m\"\u001b[39m\u001b[39mcpu\u001b[39m\u001b[39m\"\u001b[39m)\n\u001b[1;32m      <a href='vscode-notebook-cell://ssh-remote%2B139.179.99.12/scratch/arda/proj/proj.ipynb#ch0000011vscode-remote?line=2'>3</a>\u001b[0m \u001b[39mexcept\u001b[39;00m \u001b[39mFileNotFoundError\u001b[39;00m:\n\u001b[1;32m      <a href='vscode-notebook-cell://ssh-remote%2B139.179.99.12/scratch/arda/proj/proj.ipynb#ch0000011vscode-remote?line=3'>4</a>\u001b[0m     ends \u001b[39m=\u001b[39m np\u001b[39m.\u001b[39mwhere(train_cap \u001b[39m==\u001b[39m \u001b[39m2\u001b[39m)[\u001b[39m1\u001b[39m]\n",
      "\u001b[0;31mNameError\u001b[0m: name 'torch' is not defined"
     ]
    }
   ],
   "source": [
    "try:\n",
    "    all_tokenized_captions = torch.load(\"tensors/all_tokenized_captions.pt\", map_location=\"cpu\")\n",
    "except FileNotFoundError:\n",
    "    ends = np.where(train_cap == 2)[1]\n",
    "    all_caption =  [\"\"] * N\n",
    "    for i in range(len(train_cap)):\n",
    "        cap_int = train_cap[i,1:ends[i]]\n",
    "        cap_int = [cap for cap in cap_int if cap not in [0,1,2,3]]\n",
    "        cap = \" \".join(words[cap_int])\n",
    "        all_caption[i] = cap\n",
    "    all_tokenized_captions = clip.tokenize(all_caption).to(device)"
   ]
  },
  {
   "cell_type": "markdown",
   "metadata": {},
   "source": [
    "### Load or Calculate Text Features"
   ]
  },
  {
   "cell_type": "code",
   "execution_count": 7,
   "metadata": {},
   "outputs": [],
   "source": [
    "try:\n",
    "    encoded_captions = torch.load(\"tensors/encoded_captions.pt\").to(device)\n",
    "except FileNotFoundError:\n",
    "    encoded_captions = torch.empty((N,512), device=device)\n",
    "    TEXT_ENCODE_BATCH = 1000\n",
    "    with torch.no_grad():\n",
    "        for i in range(N//100):\n",
    "            encoded_captions[i*TEXT_ENCODE_BATCH:(i+1)*TEXT_ENCODE_BATCH] = model.encode_text(all_tokenized_captions[i*TEXT_ENCODE_BATCH:(i+1)*TEXT_ENCODE_BATCH]).float()\n",
    "            print(f\"Encoded {i*TEXT_ENCODE_BATCH} captions\", end=\"\\r\")"
   ]
  },
  {
   "cell_type": "markdown",
   "metadata": {},
   "source": [
    "### Load or Calculate Image Features"
   ]
  },
  {
   "cell_type": "code",
   "execution_count": 8,
   "metadata": {},
   "outputs": [],
   "source": [
    "img = preprocessor(Image.open(\"clip0.jpg\")).unsqueeze(0).to(device)\n",
    "with torch.no_grad():\n",
    "    img_feat = model.encode_image(img).float()"
   ]
  },
  {
   "cell_type": "code",
   "execution_count": null,
   "metadata": {},
   "outputs": [],
   "source": []
  },
  {
   "cell_type": "code",
   "execution_count": null,
   "metadata": {},
   "outputs": [],
   "source": [
    "IMS_SIZE = train_url.shape[0]\n",
    "image_features = torch.empty((IMS_SIZE,512), device=device)\n",
    "with torch.no_grad():\n",
    "    for i in range(IMS_SIZE):\n",
    "        r = requests.get(train_url[i])\n",
    "        if r.status_code != 200:\n",
    "            continue\n",
    "        image = Image.open(io.BytesIO(r.content))\n",
    "        image = preprocessor(image).unsqueeze(0).to(device)\n",
    "        image_features[i] = model.encode_image(image).float()\n",
    "        print(f\"Encoded {i}/{IMS_SIZE} images\", end=\"\\r\")\n"
   ]
  }
 ],
 "metadata": {
  "interpreter": {
   "hash": "b6e7149e23e27828e11bcc067cda20e11a8c25d7bde942d0d4ef16e281dfa397"
  },
  "kernelspec": {
   "display_name": "Python 3.10.4 ('hls_env2')",
   "language": "python",
   "name": "python3"
  },
  "language_info": {
   "codemirror_mode": {
    "name": "ipython",
    "version": 3
   },
   "file_extension": ".py",
   "mimetype": "text/x-python",
   "name": "python",
   "nbconvert_exporter": "python",
   "pygments_lexer": "ipython3",
   "version": "3.10.4"
  },
  "orig_nbformat": 4
 },
 "nbformat": 4,
 "nbformat_minor": 2
}
